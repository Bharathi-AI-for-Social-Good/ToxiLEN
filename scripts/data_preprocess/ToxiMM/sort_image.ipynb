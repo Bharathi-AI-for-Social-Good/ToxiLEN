{
 "cells": [
  {
   "cell_type": "code",
   "execution_count": 1,
   "id": "bf4fc5e2",
   "metadata": {},
   "outputs": [],
   "source": [
    "import json"
   ]
  },
  {
   "cell_type": "code",
   "execution_count": 8,
   "id": "9ef1a372",
   "metadata": {},
   "outputs": [],
   "source": [
    "with open(\"test_cindy_translation.json\", \"r\", encoding=\"utf-8\") as f:\n",
    "    data = json.load(f)\n",
    "\n",
    "filenames = [item.get(\"filename\") for item in data]"
   ]
  },
  {
   "cell_type": "code",
   "execution_count": 9,
   "id": "255f4bc9",
   "metadata": {},
   "outputs": [],
   "source": [
    "import os\n",
    "import shutil"
   ]
  },
  {
   "cell_type": "code",
   "execution_count": 10,
   "id": "6dc60d38",
   "metadata": {},
   "outputs": [],
   "source": [
    "import os\n",
    "import shutil\n",
    "\n",
    "def copy_image_to_new_folder(src_folder,dst_folder, filenames):\n",
    "\n",
    "    os.makedirs(dst_folder, exist_ok=True)\n",
    "    for filename in filenames:\n",
    "        src_path = os.path.join(src_folder, filename)\n",
    "        dst_path = os.path.join(dst_folder, filename)\n",
    "        shutil.copy(src_path, dst_path)"
   ]
  },
  {
   "cell_type": "code",
   "execution_count": 11,
   "id": "f2791e3a",
   "metadata": {},
   "outputs": [],
   "source": [
    "src_folder = \"images/train\"\n",
    "dst_folder = \"images/train_new\"\n",
    "\n",
    "copy_image_to_new_folder(src_folder,dst_folder, filenames)"
   ]
  }
 ],
 "metadata": {
  "kernelspec": {
   "display_name": "base",
   "language": "python",
   "name": "python3"
  },
  "language_info": {
   "codemirror_mode": {
    "name": "ipython",
    "version": 3
   },
   "file_extension": ".py",
   "mimetype": "text/x-python",
   "name": "python",
   "nbconvert_exporter": "python",
   "pygments_lexer": "ipython3",
   "version": "3.12.8"
  }
 },
 "nbformat": 4,
 "nbformat_minor": 5
}
