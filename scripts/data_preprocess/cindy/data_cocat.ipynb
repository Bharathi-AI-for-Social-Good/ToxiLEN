{
 "cells": [
  {
   "cell_type": "code",
   "execution_count": 6,
   "metadata": {},
   "outputs": [],
   "source": [
    "import pandas as pd\n",
    "import json"
   ]
  },
  {
   "cell_type": "code",
   "execution_count": 7,
   "metadata": {},
   "outputs": [],
   "source": [
    "def generate_span_data(text_data, span_data):\n",
    "    prompt_data = []\n",
    "    text_data = text_data.to_dict(orient=\"records\")  # 修正点\n",
    "\n",
    "    for span, text in zip(span_data, text_data):\n",
    "            hateful_span = span['item']['misogynistic']\n",
    "            general_emo = span['item']['general_emotion']\n",
    "            prompt = \"\"\n",
    "            if hateful_span:\n",
    "                prompt += f\"<HATE_SPAN> {' | '.join(hateful_span)} </HATE_SPAN>\"\n",
    "            if general_emo:\n",
    "                prompt += f\"<EMO_SPAN> {' | '.join(general_emo)} </EMO_SPAN>\"\n",
    "            else:\n",
    "                prompt += \"<NO_SPAN>\"\n",
    "\n",
    "            prompt += text['text']  # 加入原始文本\n",
    "\n",
    "            prompt_data.append({\n",
    "                \"filename\": text['filename'],\n",
    "                \"text\": text['text'],\n",
    "                \"prompt\": prompt\n",
    "            })\n",
    "    return prompt_data\n",
    "\n",
    "\n",
    "def concat_data(dataset_name):\n",
    "    original_data = pd.read_csv(f'all/{dataset_name}.csv')\n",
    "    print(f\"original_data: {len(original_data)}\")\n",
    "\n",
    "    # 加载 span JSONL 数据\n",
    "    emotion_span_data = []\n",
    "    with open(f\"spans/emotion_spans_{dataset_name}.jsonl\", \"r\", encoding=\"utf-8\") as f:\n",
    "        for line in f:\n",
    "            line = line.strip()\n",
    "            if line:\n",
    "                item = json.loads(line)\n",
    "                emotion_span_data.append(item)\n",
    "    print(f\"emotion_span_data: {len(emotion_span_data)}\")\n",
    "    prompt_data = generate_span_data(original_data, emotion_span_data)\n",
    "    prompt_data = pd.DataFrame(prompt_data)\n",
    "    print(f\"prompt_data: {len(prompt_data)}\")\n",
    "\n",
    "    # 加载 caption 和 background\n",
    "    caption_data = pd.read_csv(f'caption/{dataset_name}_caption_version.csv')\n",
    "    print(f\"caption_data: {len(caption_data)}\")\n",
    "    with open(f\"background/{dataset_name}_background.json\", \"r\") as f:\n",
    "        background_data = json.load(f)\n",
    "    background_data = pd.DataFrame(background_data)\n",
    "    print(f\"background_data: {len(background_data)}\")\n",
    "\n",
    "    # 标准化 filename 字段（去空格、转小写）\n",
    "    prompt_data[\"filename\"] = prompt_data[\"filename\"].str.strip().str.lower()\n",
    "    caption_data[\"filename\"] = caption_data[\"filename\"].str.strip().str.lower()\n",
    "    background_data[\"filename\"] = background_data[\"filename\"].str.strip().str.lower()\n",
    "\n",
    "    # 检查 filename 是否匹配\n",
    "    prompt_filenames = set(prompt_data[\"filename\"].unique())\n",
    "    caption_filenames = set(caption_data[\"filename\"].unique())\n",
    "    background_filenames = set(background_data[\"filename\"].unique())\n",
    "\n",
    "    print(\"\\n=== Filename 差异检查 ===\")\n",
    "    print(f\"prompt - caption 缺失: {len(prompt_filenames - caption_filenames)}\")\n",
    "    print(list(prompt_filenames - caption_filenames)[:10])  # 仅查看前10个\n",
    "\n",
    "    print(f\"caption - prompt 缺失: {len(caption_filenames - prompt_filenames)}\")\n",
    "    print(list(caption_filenames - prompt_filenames)[:10])\n",
    "\n",
    "    print(f\"prompt - background 缺失: {len(prompt_filenames - background_filenames)}\")\n",
    "    print(list(prompt_filenames - background_filenames)[:10])\n",
    "\n",
    "    print(f\"background - prompt 缺失: {len(background_filenames - prompt_filenames)}\")\n",
    "    print(list(background_filenames - prompt_filenames)[:10])\n",
    "\n",
    "    print(f\"caption - background 缺失: {len(caption_filenames - background_filenames)}\")\n",
    "    print(list(caption_filenames - background_filenames)[:10])\n",
    "\n",
    "    print(f\"background - caption 缺失: {len(background_filenames - caption_filenames)}\")\n",
    "    print(list(background_filenames - caption_filenames)[:10])\n",
    "\n",
    "    # 合并数据\n",
    "    merge_data = pd.merge(prompt_data, background_data, on=\"filename\", how=\"inner\")\n",
    "    merge_data = pd.merge(merge_data, caption_data, on=\"filename\", how=\"inner\")\n",
    "\n",
    "    print(f\"\\n最终合并后数据量: {len(merge_data)}\")\n",
    "\n",
    "    return merge_data\n"
   ]
  },
  {
   "cell_type": "code",
   "execution_count": 8,
   "metadata": {},
   "outputs": [
    {
     "name": "stdout",
     "output_type": "stream",
     "text": [
      "original_data: 1190\n",
      "emotion_span_data: 1190\n",
      "prompt_data: 1190\n",
      "caption_data: 1190\n",
      "background_data: 1190\n",
      "\n",
      "=== Filename 差异检查 ===\n",
      "prompt - caption 缺失: 0\n",
      "[]\n",
      "caption - prompt 缺失: 0\n",
      "[]\n",
      "prompt - background 缺失: 0\n",
      "[]\n",
      "background - prompt 缺失: 0\n",
      "[]\n",
      "caption - background 缺失: 0\n",
      "[]\n",
      "background - caption 缺失: 0\n",
      "[]\n",
      "\n",
      "最终合并后数据量: 1190\n",
      "1190\n",
      "original_data: 340\n",
      "emotion_span_data: 340\n",
      "prompt_data: 340\n",
      "caption_data: 340\n",
      "background_data: 340\n",
      "\n",
      "=== Filename 差异检查 ===\n",
      "prompt - caption 缺失: 0\n",
      "[]\n",
      "caption - prompt 缺失: 0\n",
      "[]\n",
      "prompt - background 缺失: 0\n",
      "[]\n",
      "background - prompt 缺失: 0\n",
      "[]\n",
      "caption - background 缺失: 0\n",
      "[]\n",
      "background - caption 缺失: 0\n",
      "[]\n",
      "\n",
      "最终合并后数据量: 340\n",
      "340\n"
     ]
    }
   ],
   "source": [
    "dataset_dict = [\"train\", \"test\"]\n",
    "\n",
    "\n",
    "for dataset_name in dataset_dict:\n",
    "    merge_data = concat_data(dataset_name)\n",
    "    \n",
    "    print(len(merge_data))\n",
    "    merge_data.to_csv(f\"all/{dataset_name}_data.csv\", index=False)"
   ]
  },
  {
   "cell_type": "code",
   "execution_count": 10,
   "metadata": {},
   "outputs": [],
   "source": [
    "train_data = pd.read_csv(\"all/train_data.csv\")"
   ]
  },
  {
   "cell_type": "code",
   "execution_count": 11,
   "metadata": {},
   "outputs": [],
   "source": [
    "train_data.drop(columns=[\"text_x\", \"text_y\",\"Unnamed: 0\",\"label_y\"], inplace=True)\n",
    "\n",
    "train_data.rename(columns={\n",
    "    \"label_x\": \"label\",\n",
    "},inplace=True)\n",
    "\n",
    "train_data.to_csv(\"all/train_final.csv\", index=False)"
   ]
  },
  {
   "cell_type": "code",
   "execution_count": 12,
   "metadata": {},
   "outputs": [
    {
     "data": {
      "text/plain": [
       "1190"
      ]
     },
     "execution_count": 12,
     "metadata": {},
     "output_type": "execute_result"
    }
   ],
   "source": [
    "len(train_data)"
   ]
  },
  {
   "cell_type": "code",
   "execution_count": 13,
   "metadata": {},
   "outputs": [
    {
     "name": "stdout",
     "output_type": "stream",
     "text": [
      "340\n"
     ]
    }
   ],
   "source": [
    "test_data = pd.read_csv(\"all/test_data.csv\")\n",
    "test_data.drop(columns=[\"text_x\", \"text_y\",\"Unnamed: 0\",\"label_y\"], inplace=True)\n",
    "\n",
    "test_data.rename(columns={\n",
    "    \"label_x\": \"label\",\n",
    "},inplace=True)\n",
    "\n",
    "test_data.to_csv(\"all/test_final.csv\", index=False)\n",
    "print(len(test_data))"
   ]
  },
  {
   "cell_type": "code",
   "execution_count": null,
   "metadata": {},
   "outputs": [],
   "source": []
  }
 ],
 "metadata": {
  "kernelspec": {
   "display_name": "base",
   "language": "python",
   "name": "python3"
  },
  "language_info": {
   "codemirror_mode": {
    "name": "ipython",
    "version": 3
   },
   "file_extension": ".py",
   "mimetype": "text/x-python",
   "name": "python",
   "nbconvert_exporter": "python",
   "pygments_lexer": "ipython3",
   "version": "3.12.8"
  }
 },
 "nbformat": 4,
 "nbformat_minor": 2
}
