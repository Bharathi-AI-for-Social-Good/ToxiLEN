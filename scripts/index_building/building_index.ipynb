{
 "cells": [
  {
   "cell_type": "code",
   "execution_count": null,
   "id": "51b43d97",
   "metadata": {},
   "outputs": [],
   "source": [
    "python -Xutf8 -m pyserini.encode input --corpus data/triple.jsonl output --embeddings runs/splade_emb encoder --encoder naver/splade-cocondenser-ensembledistil --batch-size 16 --device cuda --fp16"
   ]
  },
  {
   "cell_type": "code",
   "execution_count": null,
   "id": "8f342572",
   "metadata": {},
   "outputs": [],
   "source": [
    "python -Xutf8 -m pyserini.encode input --corpus data/triple.jsonl output --embeddings runs/splade_doc_zh encoder --encoder naver/splade-cocondenser-ensembledistil --encoder-class sentence-transformers  --batch-size 8 --device cuda --fp16"
   ]
  },
  {
   "cell_type": "code",
   "execution_count": null,
   "id": "30b42070",
   "metadata": {},
   "outputs": [],
   "source": [
    "python -m pyserini.index.lucene `\n",
    "  --collection JsonCollection `\n",
    "  --input data\\jsonl_corpus `\n",
    "  --language zh `\n",
    "  --index data\\indexes\\bm25_zh `\n",
    "  --generator DefaultLuceneDocumentGenerator `\n",
    "  --threads 1 --storePositions --storeDocvectors --storeRaw"
   ]
  },
  {
   "cell_type": "code",
   "execution_count": null,
   "id": "122cadc3",
   "metadata": {},
   "outputs": [],
   "source": [
    "python -Xutf8 -m pyserini.encode `\n",
    "  input --corpus data/jsonl_corpus/triple.jsonl `\n",
    "  output --embeddings runs/bge_emb `\n",
    "  encoder --encoder BAAI/bge-base-zh `\n",
    "          --encoder-class auto `\n",
    "          --batch-size 4 `\n",
    "          --device cuda:0 `\n",
    "          --fp16"
   ]
  },
  {
   "cell_type": "code",
   "execution_count": null,
   "id": "86758e08",
   "metadata": {},
   "outputs": [],
   "source": [
    "python -m pyserini.index.faiss   --input runs/bge_emb --output data/indexes/bge_index --dim 768 "
   ]
  },
  {
   "cell_type": "code",
   "execution_count": null,
   "id": "16170d9c",
   "metadata": {},
   "outputs": [],
   "source": [
    "python -m pyserini.index.lucene `\n",
    "  --collection JsonCollection `\n",
    "  --input data\\jsonl_corpus `\n",
    "  --language zh `\n",
    "  --index data\\indexes\\bm25_zh `\n",
    "  --generator DefaultLuceneDocumentGenerator `\n",
    "  --threads 1 --storePositions --storeDocvectors --storeRaw"
   ]
  }
 ],
 "metadata": {
  "kernelspec": {
   "display_name": "base",
   "language": "python",
   "name": "python3"
  },
  "language_info": {
   "codemirror_mode": {
    "name": "ipython",
    "version": 3
   },
   "file_extension": ".py",
   "mimetype": "text/x-python",
   "name": "python",
   "nbconvert_exporter": "python",
   "pygments_lexer": "ipython3",
   "version": "3.12.3"
  }
 },
 "nbformat": 4,
 "nbformat_minor": 5
}
